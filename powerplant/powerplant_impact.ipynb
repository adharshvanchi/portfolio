{
 "cells": [
  {
   "cell_type": "markdown",
   "metadata": {},
   "source": [
    "Fossil Fuel Power Plants vs Renewable Power Plants\n",
    "\n",
    "Comparing environmental, health and economic data by county.\n",
    "\n",
    "- Compare Towns with Nuclear vs Towns without Nuclear\n",
    "- Compare Towns with renewables within themselves\n",
    "- Compare Towns with a power plant vs the rest of the state"
   ]
  },
  {
   "cell_type": "code",
   "execution_count": null,
   "metadata": {},
   "outputs": [],
   "source": []
  }
 ],
 "metadata": {
  "language_info": {
   "name": "python"
  }
 },
 "nbformat": 4,
 "nbformat_minor": 2
}
