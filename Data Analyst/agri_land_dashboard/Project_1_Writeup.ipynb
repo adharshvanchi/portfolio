{
 "cells": [
  {
   "cell_type": "code",
   "execution_count": null,
   "metadata": {},
   "outputs": [],
   "source": []
  },
  {
   "cell_type": "markdown",
   "metadata": {},
   "source": [
    "# Project 1: Agricultural Land Value\n",
    "\n",
    "## Project Overview\n",
    "(Include Target Audience, Questions to answer, The data and the details of the data)\n",
    "\n",
    "\n",
    "## Python Component \n",
    "\n",
    "## SQL Component and ER Diagram\n",
    "\n",
    "## PowerBI Visualization Explanations\n",
    "\n",
    "## Answers to Questions from Project Overview\n",
    "\n",
    "## Caveats\n"
   ]
  }
 ],
 "metadata": {
  "language_info": {
   "name": "python"
  }
 },
 "nbformat": 4,
 "nbformat_minor": 2
}
